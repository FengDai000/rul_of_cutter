{
 "cells": [
  {
   "cell_type": "code",
   "execution_count": 1,
   "metadata": {},
   "outputs": [],
   "source": [
    "import pandas as pd\n",
    "import numpy as np\n",
    "import joblib\n",
    "import os"
   ]
  },
  {
   "cell_type": "code",
   "execution_count": 2,
   "metadata": {},
   "outputs": [],
   "source": [
    "train_01 = joblib.load('../../3.HA_model/1.PCA_T2/train_HA_feature/train_01.lz4')\n",
    "train_02 = joblib.load('../../3.HA_model/1.PCA_T2/train_HA_feature/train_02.lz4')\n",
    "train_03 = joblib.load('../../3.HA_model/1.PCA_T2/train_HA_feature/train_03.lz4')\n",
    "\n",
    "test_01 = joblib.load('../../3.HA_model/1.PCA_T2/test_HA_feature/test_01.lz4')\n",
    "test_02 = joblib.load('../../3.HA_model/1.PCA_T2/test_HA_feature/test_02.lz4')\n",
    "test_03 = joblib.load('../../3.HA_model/1.PCA_T2/test_HA_feature/test_03.lz4')\n",
    "test_04 = joblib.load('../../3.HA_model/1.PCA_T2/test_HA_feature/test_04.lz4')\n",
    "test_05 = joblib.load('../../3.HA_model/1.PCA_T2/test_HA_feature/test_05.lz4')"
   ]
  },
  {
   "cell_type": "code",
   "execution_count": 3,
   "metadata": {},
   "outputs": [],
   "source": [
    "# 训练数据经过剪切了\n",
    "train = pd.concat([train_01, train_02, train_03], axis=0)\n",
    "y_train = train[['RULR']]\n",
    "use_cols = ['PCA_T2__mean', 'PCA_T2__mean_diff', 'PCA_T2__delta', 'PCA_T2__delta_diff']\n",
    "x_train = train[use_cols]\n",
    "\n",
    "test = pd.concat([test_01, test_02, test_03, test_04, test_05], axis=0)\n",
    "use_cols = ['PCA_T2__mean', 'PCA_T2__mean_diff', 'PCA_T2__delta', 'PCA_T2__delta_diff']\n",
    "x_test = test[use_cols]"
   ]
  },
  {
   "cell_type": "code",
   "execution_count": 4,
   "metadata": {},
   "outputs": [
    {
     "data": {
      "text/plain": [
       "XGBRegressor(base_score=0.5, booster='gbtree', colsample_bylevel=1,\n",
       "       colsample_bytree=1, gamma=0, learning_rate=0.1, max_delta_step=0,\n",
       "       max_depth=3, maxdepth=6, min_child_weight=1, missing=None,\n",
       "       n_estimators=300, n_jobs=8, nthread=None, objective='reg:linear',\n",
       "       random_state=0, random_state =2018, reg_alpha=0, reg_lambda=5,\n",
       "       scale_pos_weight=1, seed=None, silent=True, subsample=1)"
      ]
     },
     "execution_count": 4,
     "metadata": {},
     "output_type": "execute_result"
    }
   ],
   "source": [
    "from xgboost.sklearn import XGBRegressor\n",
    "params = {'maxdepth': 6, 'learning_rate': 0.1, 'n_estimators': 300, 'objective': 'reg:linear',\n",
    "         'booster': 'gbtree', 'n_jobs': 8, 'reg_lambda': 5, 'random_state ':2018}\n",
    "\n",
    "xgb = XGBRegressor(**params)\n",
    "xgb.fit(x_train, y_train)"
   ]
  },
  {
   "cell_type": "code",
   "execution_count": 5,
   "metadata": {},
   "outputs": [],
   "source": [
    "# 1.avg\n",
    "RULR = xgb.predict(x_test).reshape(-1,)\n",
    "CLR = 1 - RULR\n",
    "CL = test['CL'].values\n",
    "# [0.335, 0.5125, 0.2585, 0.5105, 0.6905] 为5个test文件的时间片段内的真实剩余寿命（RULR）取平均值\n",
    "# 以下代码用于计算预测的平均剩余寿命与真实平均剩余寿命的mae值\n",
    "# residual = avg - np.array([0.335, 0.5125, 0.2585, 0.5105, 0.6905])\n",
    "# np.abs(residual).sum()/5"
   ]
  },
  {
   "cell_type": "code",
   "execution_count": 6,
   "metadata": {},
   "outputs": [
    {
     "data": {
      "text/plain": [
       "[<matplotlib.lines.Line2D at 0x7ff6dbc48ac8>]"
      ]
     },
     "execution_count": 6,
     "metadata": {},
     "output_type": "execute_result"
    },
    {
     "data": {
      "image/png": "[encoded data removed]",
      "text/plain": [
       "<Figure size 432x288 with 5 Axes>"
      ]
     },
     "metadata": {},
     "output_type": "display_data"
    }
   ],
   "source": [
    "import matplotlib.pyplot as plt\n",
    "%matplotlib inline\n",
    "plt.subplot(3,2,1)\n",
    "plt.plot(CL[:8],CLR[:8])\n",
    "\n",
    "plt.subplot(3,2,2)\n",
    "plt.plot(CL[8:15],CLR[8:15])\n",
    "\n",
    "plt.subplot(3,2,3)\n",
    "plt.plot(CL[15:25],CLR[15:25])\n",
    "\n",
    "plt.subplot(3,2,4)\n",
    "plt.plot(CL[25:35],CLR[25:35])\n",
    "\n",
    "plt.subplot(3,2,5)\n",
    "plt.plot(CL[35:45],CLR[35:45])"
   ]
  },
  {
   "cell_type": "code",
   "execution_count": null,
   "metadata": {},
   "outputs": [],
   "source": []
  },
  {
   "cell_type": "code",
   "execution_count": null,
   "metadata": {},
   "outputs": [],
   "source": []
  }
 ],
 "metadata": {
  "kernelspec": {
   "display_name": "Python 3",
   "language": "python",
   "name": "python3"
  },
  "language_info": {
   "codemirror_mode": {
    "name": "ipython",
    "version": 3
   },
   "file_extension": ".py",
   "mimetype": "text/x-python",
   "name": "python",
   "nbconvert_exporter": "python",
   "pygments_lexer": "ipython3",
   "version": "3.6.5"
  }
 },
 "nbformat": 4,
 "nbformat_minor": 2
}
