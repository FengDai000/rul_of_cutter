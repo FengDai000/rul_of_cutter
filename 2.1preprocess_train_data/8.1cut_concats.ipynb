{
 "cells": [
  {
   "cell_type": "markdown",
   "metadata": {},
   "source": [
    "删除存在“停机”状态的片段"
   ]
  },
  {
   "cell_type": "code",
   "execution_count": 1,
   "metadata": {},
   "outputs": [],
   "source": [
    "import joblib\n",
    "import os\n",
    "import pandas as pd\n",
    "import numpy as np"
   ]
  },
  {
   "cell_type": "code",
   "execution_count": 2,
   "metadata": {},
   "outputs": [],
   "source": [
    "INPUT_DIR = './concats_more/'"
   ]
  },
  {
   "cell_type": "code",
   "execution_count": 3,
   "metadata": {},
   "outputs": [],
   "source": [
    "def cut_rabbish(train_no, csv_no_list=[]):\n",
    "    '''\n",
    "    描述：\n",
    "        砍掉plc或sensor状态不稳定的时间片段\n",
    "    '''\n",
    "    df = joblib.load(INPUT_DIR + 'concat_0%d.lz4'%train_no)\n",
    "    cond = [i not in csv_no_list for i in df['csv_no']]\n",
    "    df_1 = df.loc[cond].copy()\n",
    "    df_1.reset_index(drop=True, inplace=True)\n",
    "    df_1.drop(columns=['csv_no'], inplace=True)\n",
    "    if not os.path.exists('./concats_cut'):\n",
    "        os.mkdir('./concats_cut')\n",
    "    joblib.dump(df_1, './concats_cut/concat_0%d.lz4'%train_no, compress='lz4')"
   ]
  },
  {
   "cell_type": "code",
   "execution_count": 4,
   "metadata": {},
   "outputs": [],
   "source": [
    "cut_rabbish(1, [1,40,48])"
   ]
  },
  {
   "cell_type": "code",
   "execution_count": 5,
   "metadata": {},
   "outputs": [],
   "source": [
    "cut_rabbish(2, [1,14,21,35,42])"
   ]
  },
  {
   "cell_type": "code",
   "execution_count": 6,
   "metadata": {},
   "outputs": [],
   "source": [
    "cut_rabbish(3, [1,8,20,30,37])"
   ]
  },
  {
   "cell_type": "code",
   "execution_count": null,
   "metadata": {},
   "outputs": [],
   "source": []
  },
  {
   "cell_type": "code",
   "execution_count": null,
   "metadata": {},
   "outputs": [],
   "source": []
  },
  {
   "cell_type": "code",
   "execution_count": null,
   "metadata": {},
   "outputs": [],
   "source": []
  }
 ],
 "metadata": {
  "kernelspec": {
   "display_name": "Python 3",
   "language": "python",
   "name": "python3"
  },
  "language_info": {
   "codemirror_mode": {
    "name": "ipython",
    "version": 3
   },
   "file_extension": ".py",
   "mimetype": "text/x-python",
   "name": "python",
   "nbconvert_exporter": "python",
   "pygments_lexer": "ipython3",
   "version": "3.6.5"
  }
 },
 "nbformat": 4,
 "nbformat_minor": 2
}
