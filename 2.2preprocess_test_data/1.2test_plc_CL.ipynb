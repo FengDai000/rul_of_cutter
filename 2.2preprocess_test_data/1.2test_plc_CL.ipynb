{
 "cells": [
  {
   "cell_type": "code",
   "execution_count": 5,
   "metadata": {},
   "outputs": [],
   "source": [
    "import os\n",
    "import pandas as pd\n",
    "import numpy as np\n",
    "import joblib\n",
    "import datetime as dt"
   ]
  },
  {
   "cell_type": "code",
   "execution_count": 6,
   "metadata": {},
   "outputs": [],
   "source": [
    "test_01_plc = pd.read_csv('../raw_data/test_add/01/PLC/plc.csv')\n",
    "test_02_plc = pd.read_csv('../raw_data/test_add/02/PLC/plc.csv')\n",
    "test_03_plc = pd.read_csv('../raw_data/test_add/03/PLC/plc.csv')\n",
    "test_04_plc = pd.read_csv('../raw_data/test_add/04/PLC/plc.csv')\n",
    "test_05_plc = pd.read_csv('../raw_data/test_add/05/PLC/plc.csv')"
   ]
  },
  {
   "cell_type": "code",
   "execution_count": 7,
   "metadata": {},
   "outputs": [],
   "source": [
    "def process_time(plc_df):\n",
    "    plc_df['time'] = pd.to_datetime(plc_df.time,format='%H:%M:%S:%f')\n",
    "    plc_df = plc_df.reset_index(drop=True)\n",
    "    return plc_df\n",
    "\n",
    "def CalCostLife(offset,start,cur,base_cost):\n",
    "    '''\n",
    "    描述：\n",
    "        计算已经花费的有效时间(CL)\n",
    "    '''\n",
    "    cost = (offset*5-1) + (cur-start).value/(1e9*60) #min\n",
    "    cost_life = base_cost + cost\n",
    "    return cost_life\n",
    "\n",
    "def CalCostLifeInterval(offset,base_cost):\n",
    "    '''\n",
    "    描述：\n",
    "        计算已经花费的有效时间区间(CLI, Cost Life Interval)\n",
    "    '''\n",
    "    cost_interval = offset*5\n",
    "    cost_life_interval = base_cost + cost_interval\n",
    "    return cost_life_interval\n",
    "\n",
    "def TransTime(data_plc, csv_nos=48, base_cost=0):\n",
    "    '''\n",
    "    描述：\n",
    "        把plc文件中的时间转化为寿命相关特征\n",
    "    参数：\n",
    "        data_plc：\n",
    "        csv_nos：plc对应的sensor文件数量\n",
    "        total_time:寿命\n",
    "    '''\n",
    "    data_plc = data_plc.loc[data_plc['csv_no']<=csv_nos]\n",
    "    cl = []\n",
    "    cli = []\n",
    "    for i in range(1,csv_nos+1):\n",
    "        time_seg = data_plc.loc[data_plc['csv_no']==i, 'time']\n",
    "        start = time_seg.min()\n",
    "        cl.append(time_seg.apply(lambda x:CalCostLife(i, start, x, base_cost)).values)\n",
    "        cli.append(time_seg.apply(lambda x:CalCostLifeInterval(i, base_cost)).values)\n",
    "        \n",
    "    cl_arr = np.hstack(cl)\n",
    "    cli_arr = np.hstack(cli)\n",
    "    \n",
    "    result = data_plc.drop(columns=['time'])\n",
    "    result['CL'] = cl_arr\n",
    "    result['CLI'] = cli_arr\n",
    "    return result"
   ]
  },
  {
   "cell_type": "code",
   "execution_count": 8,
   "metadata": {},
   "outputs": [],
   "source": [
    "test_01_plc = process_time(test_01_plc)\n",
    "test_02_plc = process_time(test_02_plc)\n",
    "test_03_plc = process_time(test_03_plc)\n",
    "test_04_plc = process_time(test_04_plc)\n",
    "test_05_plc = process_time(test_05_plc)\n",
    "\n",
    "data_01 = TransTime(test_01_plc, 10, 40)\n",
    "data_02 = TransTime(test_02_plc, 10, 70)\n",
    "data_03 = TransTime(test_03_plc, 10, 50) \n",
    "data_04 = TransTime(test_04_plc, 10, 70)\n",
    "data_05 = TransTime(test_05_plc, 10, 120) "
   ]
  },
  {
   "cell_type": "code",
   "execution_count": 9,
   "metadata": {},
   "outputs": [
    {
     "data": {
      "text/plain": [
       "['./test_plc_CL/test_05_plc.lz4']"
      ]
     },
     "execution_count": 9,
     "metadata": {},
     "output_type": "execute_result"
    }
   ],
   "source": [
    "if not os.path.exists('test_plc_CL'):\n",
    "    os.mkdir('test_plc_CL')\n",
    "output_dir = './test_plc_CL'\n",
    "joblib.dump(data_01,os.path.join(output_dir,'test_01_plc.lz4'))\n",
    "joblib.dump(data_02,os.path.join(output_dir,'test_02_plc.lz4'))\n",
    "joblib.dump(data_03,os.path.join(output_dir,'test_03_plc.lz4'))\n",
    "joblib.dump(data_04,os.path.join(output_dir,'test_04_plc.lz4'))\n",
    "joblib.dump(data_05,os.path.join(output_dir,'test_05_plc.lz4'))"
   ]
  },
  {
   "cell_type": "code",
   "execution_count": null,
   "metadata": {},
   "outputs": [],
   "source": []
  },
  {
   "cell_type": "code",
   "execution_count": null,
   "metadata": {},
   "outputs": [],
   "source": []
  }
 ],
 "metadata": {
  "kernelspec": {
   "display_name": "Python 3",
   "language": "python",
   "name": "python3"
  },
  "language_info": {
   "codemirror_mode": {
    "name": "ipython",
    "version": 3
   },
   "file_extension": ".py",
   "mimetype": "text/x-python",
   "name": "python",
   "nbconvert_exporter": "python",
   "pygments_lexer": "ipython3",
   "version": "3.6.5"
  }
 },
 "nbformat": 4,
 "nbformat_minor": 2
}
