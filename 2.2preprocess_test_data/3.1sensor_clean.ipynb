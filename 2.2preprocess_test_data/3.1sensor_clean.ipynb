{
 "cells": [
  {
   "cell_type": "markdown",
   "metadata": {},
   "source": [
    "填充nans、infs和naive_outlier"
   ]
  },
  {
   "cell_type": "code",
   "execution_count": 1,
   "metadata": {},
   "outputs": [],
   "source": [
    "import pandas as pd\n",
    "import numpy as np\n",
    "import joblib\n",
    "from tsfresh.utilities.dataframe_functions import impute\n",
    "import os\n",
    "from joblib import Parallel, delayed"
   ]
  },
  {
   "cell_type": "code",
   "execution_count": 2,
   "metadata": {},
   "outputs": [],
   "source": [
    "# def load_sensor(data_no, idx):\n",
    "#     sensor = joblib.load('./sensors_id_sort/0%d/%d.lz4'%(data_no, idx))\n",
    "#     return sensor\n",
    "\n",
    "def gen_boxplot_bound(ser):\n",
    "    '''\n",
    "    描述：\n",
    "        输出箱线图的异常值边界,输出上下边界以及fillna()之后的结果\n",
    "    '''\n",
    "    ser = ser.fillna(method='pad')\n",
    "    tmp = ser.values.ravel()\n",
    "    q1 = np.percentile(tmp, 0.1)\n",
    "    q3 = np.percentile(tmp, 99.9)\n",
    "    iqr = q3 -q1\n",
    "    up_bound = q3 + 10*iqr\n",
    "    down_bound = q1 - 10*iqr\n",
    "    return up_bound, down_bound, ser\n",
    "    \n",
    "def naive_outliers_impute(df):\n",
    "    '''\n",
    "    描述：\n",
    "        naive_outliers->up_bound, down_bound\n",
    "    '''\n",
    "\n",
    "    for col in df.columns:\n",
    "        up_bound, down_bound, ser = gen_boxplot_bound(df[col])\n",
    "        \n",
    "        df.loc[ser<down_bound, col] = down_bound\n",
    "        df.loc[ser>up_bound, col] = up_bound\n",
    "    return df"
   ]
  },
  {
   "cell_type": "code",
   "execution_count": 3,
   "metadata": {},
   "outputs": [],
   "source": [
    "def clean_sensor(df):\n",
    "    '''\n",
    "    描述：\n",
    "        填充nans->median, infs->minmax, naive_outliers->up_bound, down_bound\n",
    "    '''\n",
    "    df_1 = impute(df)\n",
    "    df_2 = naive_outliers_impute(df_1)\n",
    "    return df_2\n",
    "\n",
    "def clean_sensor_parallel(train_no, csv_nos, opt_func):\n",
    "    '''\n",
    "    描述：\n",
    "        并行清洗数据\n",
    "    参数：\n",
    "        train_no：第几个plc\n",
    "        csv_nos：plc对应的sensor文件个数\n",
    "    '''\n",
    "    \n",
    "    input_dir = './sensors_id_sort/0%d/'%train_no\n",
    "    output_dir = './sensors_clean/0%d/'%train_no\n",
    "\n",
    "    if not os.path.exists('./sensors_clean/'):\n",
    "        os.mkdir('./sensors_clean')\n",
    "    if not os.path.exists('./sensors_clean/0%d'%train_no):\n",
    "        os.mkdir('./sensors_clean/0%d'%train_no)\n",
    "    \n",
    "    def basis_func(idx):\n",
    "        sensor = joblib.load(input_dir + '%d.lz4'%idx)\n",
    "        tmp = opt_func(sensor)\n",
    "        joblib.dump(tmp, output_dir+'%d.lz4'%idx, compress='lz4')\n",
    "\n",
    "    Parallel(n_jobs=48,verbose=1)(delayed(basis_func)(i) for i in range(1,csv_nos+1))"
   ]
  },
  {
   "cell_type": "code",
   "execution_count": 4,
   "metadata": {},
   "outputs": [
    {
     "name": "stderr",
     "output_type": "stream",
     "text": [
      "[Parallel(n_jobs=48)]: Using backend LokyBackend with 48 concurrent workers.\n",
      "[Parallel(n_jobs=48)]: Done   3 out of  10 | elapsed:   21.0s remaining:   48.9s\n",
      "[Parallel(n_jobs=48)]: Done  10 out of  10 | elapsed:   26.1s finished\n",
      "[Parallel(n_jobs=48)]: Using backend LokyBackend with 48 concurrent workers.\n",
      "[Parallel(n_jobs=48)]: Done   3 out of  10 | elapsed:   24.7s remaining:   57.7s\n",
      "[Parallel(n_jobs=48)]: Done  10 out of  10 | elapsed:   27.8s finished\n",
      "[Parallel(n_jobs=48)]: Using backend LokyBackend with 48 concurrent workers.\n",
      "[Parallel(n_jobs=48)]: Done   3 out of  10 | elapsed:   22.5s remaining:   52.5s\n",
      "[Parallel(n_jobs=48)]: Done  10 out of  10 | elapsed:   26.5s finished\n",
      "[Parallel(n_jobs=48)]: Using backend LokyBackend with 48 concurrent workers.\n",
      "[Parallel(n_jobs=48)]: Done   3 out of  10 | elapsed:   22.6s remaining:   52.7s\n",
      "[Parallel(n_jobs=48)]: Done  10 out of  10 | elapsed:   28.4s finished\n",
      "[Parallel(n_jobs=48)]: Using backend LokyBackend with 48 concurrent workers.\n",
      "[Parallel(n_jobs=48)]: Done   3 out of  10 | elapsed:   23.6s remaining:   55.0s\n",
      "[Parallel(n_jobs=48)]: Done  10 out of  10 | elapsed:   26.2s finished\n"
     ]
    }
   ],
   "source": [
    "clean_sensor_parallel(1, 10, clean_sensor)\n",
    "clean_sensor_parallel(2, 10, clean_sensor)\n",
    "clean_sensor_parallel(3, 10, clean_sensor)\n",
    "clean_sensor_parallel(4, 10, clean_sensor)\n",
    "clean_sensor_parallel(5, 10, clean_sensor)"
   ]
  }
 ],
 "metadata": {
  "kernelspec": {
   "display_name": "Python 3",
   "language": "python",
   "name": "python3"
  },
  "language_info": {
   "codemirror_mode": {
    "name": "ipython",
    "version": 3
   },
   "file_extension": ".py",
   "mimetype": "text/x-python",
   "name": "python",
   "nbconvert_exporter": "python",
   "pygments_lexer": "ipython3",
   "version": "3.6.5"
  }
 },
 "nbformat": 4,
 "nbformat_minor": 2
}
