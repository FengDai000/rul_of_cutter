{
 "cells": [
  {
   "cell_type": "markdown",
   "metadata": {},
   "source": [
    "给train_plc添加id和sort_col"
   ]
  },
  {
   "cell_type": "code",
   "execution_count": 1,
   "metadata": {},
   "outputs": [],
   "source": [
    "import pandas as pd\n",
    "import numpy as np\n",
    "import joblib\n",
    "import datetime as dt\n",
    "import os\n",
    "\n",
    "from joblib import Parallel,delayed"
   ]
  },
  {
   "cell_type": "code",
   "execution_count": 2,
   "metadata": {},
   "outputs": [],
   "source": [
    "def assign_id_single_sensor(sensor_seg_num, sensor):\n",
    "    '''\n",
    "    描述:\n",
    "        为一个sensor文件增加一列id（id从1到sensor_seg_num）\n",
    "    参数：\n",
    "        sensor_seg_num(int):采样数据的分段数\n",
    "        sensor(DataFrame):采样数据\n",
    "    '''\n",
    "    sensor_len = sensor.shape[0]\n",
    "    sensor_seg_len = int(sensor_len / sensor_seg_num)\n",
    "    sensor_res = sensor_len % sensor_seg_num\n",
    "    # create column id\n",
    "    a = np.ones(sensor_seg_len + 1)\n",
    "    b = np.ones(sensor_seg_len)\n",
    "    a_dup = a.reshape(-1,a.shape[0]).repeat(sensor_res,axis=0)\n",
    "    A = a_dup*np.arange(1,sensor_res+1).reshape(-1,1)\n",
    "    A = A.ravel()\n",
    "    b_dup = b.reshape(-1,b.shape[0]).repeat((sensor_seg_num - sensor_res),axis=0)\n",
    "    B = b_dup*np.arange(sensor_res+1,sensor_seg_num+1).reshape(-1,1)\n",
    "    B = B.ravel()\n",
    "    C = np.hstack((A,B)).astype(int)\n",
    "    sensor['id'] = C\n",
    "    return sensor\n",
    "\n",
    "def assign_sort_col(df):\n",
    "    '''\n",
    "    描述：\n",
    "        为df文件添加一列‘sort_col’\n",
    "    '''\n",
    "    df['sort_col'] = df.index\n",
    "    return df"
   ]
  },
  {
   "cell_type": "code",
   "execution_count": 3,
   "metadata": {},
   "outputs": [],
   "source": [
    "def assign_id_all_sensor(data_no):\n",
    "    '''\n",
    "    描述：\n",
    "        \n",
    "    参数：\n",
    "        data_no（int）: 例如：1\n",
    "        \n",
    "    '''\n",
    "    plc_path = './test_plc_CL/test_0%s_plc.lz4'%data_no\n",
    "    sensor_input_dir = './sensors/0%s/'%data_no\n",
    "    sensor_output_folder = './sensors_id_sort/0%s'%data_no\n",
    "\n",
    "    if not os.path.exists(sensor_output_folder):\n",
    "        os.makedirs(sensor_output_folder)\n",
    "    # 读入plc以获取plc对应csv_no数量   \n",
    "    data_plc = joblib.load(plc_path)\n",
    "    plc_sample_points = data_plc['csv_no'].value_counts().sort_index() # index代表第几个sensor文件\n",
    "    \n",
    "    def assign_id_basis_func(idx):\n",
    "        input_path = os.path.join(sensor_input_dir, '%d.lz4'%idx)\n",
    "        sensor = joblib.load(input_path)\n",
    "        tmp = assign_id_single_sensor(plc_sample_points[idx], sensor)\n",
    "        tmp = assign_sort_col(tmp)\n",
    "        output_path = os.path.join(sensor_output_folder, '%d.lz4'%idx)\n",
    "        joblib.dump(tmp, output_path, compress='lz4')\n",
    "\n",
    "    Parallel(n_jobs=len(plc_sample_points.index), verbose=10)(delayed(assign_id_basis_func)(idx) for idx in plc_sample_points.index)\n"
   ]
  },
  {
   "cell_type": "code",
   "execution_count": 4,
   "metadata": {},
   "outputs": [
    {
     "name": "stderr",
     "output_type": "stream",
     "text": [
      "[Parallel(n_jobs=10)]: Using backend LokyBackend with 10 concurrent workers.\n",
      "[Parallel(n_jobs=10)]: Done   3 out of  10 | elapsed:   14.9s remaining:   34.8s\n",
      "[Parallel(n_jobs=10)]: Done   5 out of  10 | elapsed:   15.9s remaining:   15.9s\n",
      "[Parallel(n_jobs=10)]: Done   7 out of  10 | elapsed:   17.1s remaining:    7.3s\n",
      "[Parallel(n_jobs=10)]: Done  10 out of  10 | elapsed:   18.2s finished\n",
      "[Parallel(n_jobs=10)]: Using backend LokyBackend with 10 concurrent workers.\n",
      "[Parallel(n_jobs=10)]: Done   3 out of  10 | elapsed:   16.1s remaining:   37.7s\n",
      "[Parallel(n_jobs=10)]: Done   5 out of  10 | elapsed:   18.3s remaining:   18.3s\n",
      "[Parallel(n_jobs=10)]: Done   7 out of  10 | elapsed:   18.3s remaining:    7.8s\n",
      "[Parallel(n_jobs=10)]: Done  10 out of  10 | elapsed:   19.1s finished\n",
      "[Parallel(n_jobs=10)]: Using backend LokyBackend with 10 concurrent workers.\n",
      "[Parallel(n_jobs=10)]: Done   3 out of  10 | elapsed:   17.1s remaining:   39.8s\n",
      "[Parallel(n_jobs=10)]: Done   5 out of  10 | elapsed:   18.0s remaining:   18.0s\n",
      "[Parallel(n_jobs=10)]: Done   7 out of  10 | elapsed:   18.2s remaining:    7.8s\n",
      "[Parallel(n_jobs=10)]: Done  10 out of  10 | elapsed:   19.0s finished\n",
      "[Parallel(n_jobs=10)]: Using backend LokyBackend with 10 concurrent workers.\n",
      "[Parallel(n_jobs=10)]: Done   3 out of  10 | elapsed:   16.5s remaining:   38.4s\n",
      "[Parallel(n_jobs=10)]: Done   5 out of  10 | elapsed:   17.6s remaining:   17.6s\n",
      "[Parallel(n_jobs=10)]: Done   7 out of  10 | elapsed:   18.6s remaining:    8.0s\n",
      "[Parallel(n_jobs=10)]: Done  10 out of  10 | elapsed:   18.6s finished\n",
      "[Parallel(n_jobs=10)]: Using backend LokyBackend with 10 concurrent workers.\n",
      "[Parallel(n_jobs=10)]: Done   3 out of  10 | elapsed:   11.3s remaining:   26.3s\n",
      "[Parallel(n_jobs=10)]: Done   5 out of  10 | elapsed:   14.8s remaining:   14.8s\n",
      "[Parallel(n_jobs=10)]: Done   7 out of  10 | elapsed:   17.9s remaining:    7.7s\n",
      "[Parallel(n_jobs=10)]: Done  10 out of  10 | elapsed:   18.6s finished\n"
     ]
    }
   ],
   "source": [
    "assign_id_all_sensor(1)\n",
    "assign_id_all_sensor(2)\n",
    "assign_id_all_sensor(3)\n",
    "assign_id_all_sensor(4)\n",
    "assign_id_all_sensor(5)"
   ]
  }
 ],
 "metadata": {
  "kernelspec": {
   "display_name": "Python 3",
   "language": "python",
   "name": "python3"
  },
  "language_info": {
   "codemirror_mode": {
    "name": "ipython",
    "version": 3
   },
   "file_extension": ".py",
   "mimetype": "text/x-python",
   "name": "python",
   "nbconvert_exporter": "python",
   "pygments_lexer": "ipython3",
   "version": "3.6.5"
  }
 },
 "nbformat": 4,
 "nbformat_minor": 2
}
