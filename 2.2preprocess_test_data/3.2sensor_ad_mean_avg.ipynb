{
 "cells": [
  {
   "cell_type": "markdown",
   "metadata": {},
   "source": [
    "使用滑动标准差作为置信边带，找到并填充异常值为滑动均值"
   ]
  },
  {
   "cell_type": "code",
   "execution_count": 1,
   "metadata": {},
   "outputs": [],
   "source": [
    "import joblib\n",
    "import pandas as pd\n",
    "import numpy as np\n",
    "import os\n",
    "import collections\n",
    "from itertools import zip_longest\n",
    "from joblib import Parallel, delayed\n",
    "# import matplotlib.pyplot as plt\n",
    "# %matplotlib inline"
   ]
  },
  {
   "cell_type": "code",
   "execution_count": 2,
   "metadata": {},
   "outputs": [],
   "source": [
    "def moving_average(data, window_size, window_type='rectang'):\n",
    "    '''\n",
    "    描述：\n",
    "        使用不同的窗口类型，获取滑动均值序列\n",
    "    参数:\n",
    "        window_type: triang or rectang\n",
    "    '''\n",
    "    if window_type == 'triang':\n",
    "        window = np.linspace(0, 2/(window_size+1), window_size+1)[1:]\n",
    "    elif window_type == 'rectang':\n",
    "        window = np.ones(int(window_size))/float(window_size)\n",
    "    else:\n",
    "        raise ValueError('window_type error!')\n",
    "        \n",
    "    return np.convolve(data, window, 'same')\n",
    "\n",
    "def df_moving_average(df, window_size, window_type='rectang', columns=None):\n",
    "    '''\n",
    "    描述：\n",
    "        使用滑动平均平滑序列\n",
    "    '''\n",
    "    if columns is None:\n",
    "        columns = ['Current_1', 'Current_2' ,'Current_3']\n",
    "    \n",
    "    for col in columns:\n",
    "        df[col] = moving_average(df[col], window_size, window_type)\n",
    "    return df\n",
    "\n",
    "def impute_anomalies_rolling_std(y, window_size, sigma=1.0):\n",
    "    '''\n",
    "    描述：\n",
    "        使用triang窗取均值，rectang窗提取方差，检测并使用均值填充异常点\n",
    "    '''\n",
    "    avg = moving_average(y, window_size,window_type= 'triang')\n",
    "    avg_list = avg.tolist()\n",
    "    residual = y - moving_average(y, window_size, 'rectang')\n",
    "    # Calculate the variation in the distribution of the residual\n",
    "    testing_std = pd.Series(residual).rolling(window=window_size, min_periods=1, center=False).std()\n",
    "    rolling_std = testing_std.replace(np.nan,testing_std.iloc[window_size-1]).values\n",
    "    \n",
    "    up_bound = avg + (sigma * rolling_std)\n",
    "    down_bound = avg - (sigma * rolling_std)\n",
    "    f = ((y>up_bound)|(y<down_bound)).values\n",
    "    y[f] = avg[f]\n",
    "    return y\n",
    "\n",
    "def df_impute_anomalies_rolling_std(df, window_size, sigma, columns=None):\n",
    "    if columns is None:\n",
    "        columns = ['Vibration_1', 'Vibration_2', 'Vibration_3']\n",
    "    for col in columns:\n",
    "        df[col] = impute_anomalies_rolling_std(df[col], window_size, sigma)\n",
    "    return df"
   ]
  },
  {
   "cell_type": "code",
   "execution_count": 5,
   "metadata": {},
   "outputs": [],
   "source": [
    "def optfunc_parallel(data_no, csv_nos, opt_func_list):\n",
    "    '''\n",
    "    描述：\n",
    "        并行处理数据\n",
    "    参数：\n",
    "        data_no：第几个plc\n",
    "        csv_nos：plc对应的sensor文件个数\n",
    "    '''\n",
    "    \n",
    "    input_dir = './sensors_clean/0%d/'%data_no\n",
    "    output_dir = './sensors_ad/0%d/'%data_no\n",
    "\n",
    "    if not os.path.exists('./sensors_ad/'):\n",
    "        os.mkdir('./sensors_ad')\n",
    "    if not os.path.exists('./sensors_ad/0%d'%data_no):\n",
    "        os.mkdir('./sensors_ad/0%d'%data_no)\n",
    "    \n",
    "    def basis_func(idx):\n",
    "        sensor = joblib.load(input_dir + '%d.lz4'%idx)\n",
    "#         sensor.columns = ['Vibration_1', 'Vibration_2', 'Vibration_3','Current_1', 'Current_2', 'Current_3', 'id', 'sort_col']\n",
    "        df_1 = opt_func_list[0](df = sensor, window_size = 15, window_type='rectang', columns = ['Current_1'])\n",
    "        df_2 = opt_func_list[1](df = df_1, window_size = 15, sigma=2.0, columns=['Vibration_1', 'Vibration_2', 'Vibration_3'])\n",
    "        joblib.dump(df_2, output_dir+'%d.lz4'%idx, compress='lz4')\n",
    "\n",
    "    Parallel(n_jobs=48,verbose=10)(delayed(basis_func)(i) for i in range(1,csv_nos+1))"
   ]
  },
  {
   "cell_type": "code",
   "execution_count": 6,
   "metadata": {},
   "outputs": [
    {
     "name": "stderr",
     "output_type": "stream",
     "text": [
      "[Parallel(n_jobs=48)]: Using backend LokyBackend with 48 concurrent workers.\n",
      "[Parallel(n_jobs=48)]: Done   3 out of  10 | elapsed:   11.2s remaining:   26.2s\n",
      "[Parallel(n_jobs=48)]: Done   5 out of  10 | elapsed:   12.1s remaining:   12.1s\n",
      "[Parallel(n_jobs=48)]: Done   7 out of  10 | elapsed:   12.3s remaining:    5.3s\n",
      "[Parallel(n_jobs=48)]: Done  10 out of  10 | elapsed:   13.4s finished\n",
      "[Parallel(n_jobs=48)]: Using backend LokyBackend with 48 concurrent workers.\n",
      "[Parallel(n_jobs=48)]: Done   3 out of  10 | elapsed:    7.4s remaining:   17.2s\n",
      "[Parallel(n_jobs=48)]: Done   5 out of  10 | elapsed:    8.3s remaining:    8.3s\n",
      "[Parallel(n_jobs=48)]: Done   7 out of  10 | elapsed:   12.0s remaining:    5.1s\n",
      "[Parallel(n_jobs=48)]: Done  10 out of  10 | elapsed:   14.1s finished\n",
      "[Parallel(n_jobs=48)]: Using backend LokyBackend with 48 concurrent workers.\n",
      "[Parallel(n_jobs=48)]: Done   3 out of  10 | elapsed:    5.4s remaining:   12.6s\n",
      "[Parallel(n_jobs=48)]: Done   5 out of  10 | elapsed:   10.0s remaining:   10.0s\n",
      "[Parallel(n_jobs=48)]: Done   7 out of  10 | elapsed:   14.3s remaining:    6.1s\n",
      "[Parallel(n_jobs=48)]: Done  10 out of  10 | elapsed:   15.2s finished\n",
      "[Parallel(n_jobs=48)]: Using backend LokyBackend with 48 concurrent workers.\n",
      "[Parallel(n_jobs=48)]: Done   3 out of  10 | elapsed:    6.8s remaining:   15.8s\n",
      "[Parallel(n_jobs=48)]: Done   5 out of  10 | elapsed:   12.5s remaining:   12.5s\n",
      "[Parallel(n_jobs=48)]: Done   7 out of  10 | elapsed:   16.3s remaining:    7.0s\n",
      "[Parallel(n_jobs=48)]: Done  10 out of  10 | elapsed:   16.6s finished\n",
      "[Parallel(n_jobs=48)]: Using backend LokyBackend with 48 concurrent workers.\n",
      "[Parallel(n_jobs=48)]: Done   3 out of  10 | elapsed:    6.4s remaining:   14.9s\n",
      "[Parallel(n_jobs=48)]: Done   5 out of  10 | elapsed:    7.5s remaining:    7.5s\n",
      "[Parallel(n_jobs=48)]: Done   7 out of  10 | elapsed:   11.8s remaining:    5.1s\n",
      "[Parallel(n_jobs=48)]: Done  10 out of  10 | elapsed:   14.9s finished\n"
     ]
    }
   ],
   "source": [
    "optfunc_parallel(1, 10, [df_moving_average, df_impute_anomalies_rolling_std])\n",
    "optfunc_parallel(2, 10, [df_moving_average, df_impute_anomalies_rolling_std])\n",
    "optfunc_parallel(3, 10, [df_moving_average, df_impute_anomalies_rolling_std])\n",
    "optfunc_parallel(4, 10, [df_moving_average, df_impute_anomalies_rolling_std])\n",
    "optfunc_parallel(5, 10, [df_moving_average, df_impute_anomalies_rolling_std])"
   ]
  },
  {
   "cell_type": "code",
   "execution_count": null,
   "metadata": {},
   "outputs": [],
   "source": []
  },
  {
   "cell_type": "code",
   "execution_count": null,
   "metadata": {},
   "outputs": [],
   "source": []
  }
 ],
 "metadata": {
  "kernelspec": {
   "display_name": "Python 3",
   "language": "python",
   "name": "python3"
  },
  "language_info": {
   "codemirror_mode": {
    "name": "ipython",
    "version": 3
   },
   "file_extension": ".py",
   "mimetype": "text/x-python",
   "name": "python",
   "nbconvert_exporter": "python",
   "pygments_lexer": "ipython3",
   "version": "3.6.5"
  }
 },
 "nbformat": 4,
 "nbformat_minor": 2
}
